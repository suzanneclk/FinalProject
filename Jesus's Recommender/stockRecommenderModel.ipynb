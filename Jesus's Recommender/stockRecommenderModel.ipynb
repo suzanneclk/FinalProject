{
 "cells": [
  {
   "cell_type": "code",
   "execution_count": 1,
   "metadata": {},
   "outputs": [],
   "source": [
    "import seaborn as sns\n",
    "import matplotlib.pyplot as plt\n",
    "import pandas as pd\n",
    "import seaborn as sns"
   ]
  },
  {
   "cell_type": "code",
   "execution_count": 2,
   "metadata": {},
   "outputs": [],
   "source": [
    "sp500 = pd.read_csv(\"S&P 500 Post-Processing.csv\")"
   ]
  },
  {
   "cell_type": "markdown",
   "metadata": {},
   "source": [
    "# Content-Based Recommender System: Recommending the stocks most similar to your portfolio\n",
    "---"
   ]
  },
  {
   "cell_type": "markdown",
   "metadata": {},
   "source": [
    "# Some Data Understanding"
   ]
  },
  {
   "cell_type": "code",
   "execution_count": 3,
   "metadata": {},
   "outputs": [
    {
     "data": {
      "text/html": [
       "<div>\n",
       "<style scoped>\n",
       "    .dataframe tbody tr th:only-of-type {\n",
       "        vertical-align: middle;\n",
       "    }\n",
       "\n",
       "    .dataframe tbody tr th {\n",
       "        vertical-align: top;\n",
       "    }\n",
       "\n",
       "    .dataframe thead th {\n",
       "        text-align: right;\n",
       "    }\n",
       "</style>\n",
       "<table border=\"1\" class=\"dataframe\">\n",
       "  <thead>\n",
       "    <tr style=\"text-align: right;\">\n",
       "      <th></th>\n",
       "      <th>Symbol</th>\n",
       "      <th>Name</th>\n",
       "      <th>Sector</th>\n",
       "      <th>Price/Earnings</th>\n",
       "      <th>Earnings/Share</th>\n",
       "      <th>profitMargin</th>\n",
       "      <th>debtToEquityRatio</th>\n",
       "      <th>returnOnAssets</th>\n",
       "      <th>quickRatio</th>\n",
       "    </tr>\n",
       "  </thead>\n",
       "  <tbody>\n",
       "    <tr>\n",
       "      <th>0</th>\n",
       "      <td>MMM</td>\n",
       "      <td>3M Company</td>\n",
       "      <td>Industrials</td>\n",
       "      <td>24.31</td>\n",
       "      <td>7.92</td>\n",
       "      <td>-0.214039</td>\n",
       "      <td>9.509465</td>\n",
       "      <td>-0.144175</td>\n",
       "      <td>0.701837</td>\n",
       "    </tr>\n",
       "    <tr>\n",
       "      <th>1</th>\n",
       "      <td>AOS</td>\n",
       "      <td>A.O. Smith Corp</td>\n",
       "      <td>Industrials</td>\n",
       "      <td>27.76</td>\n",
       "      <td>1.70</td>\n",
       "      <td>0.144466</td>\n",
       "      <td>0.742518</td>\n",
       "      <td>0.170053</td>\n",
       "      <td>1.014916</td>\n",
       "    </tr>\n",
       "    <tr>\n",
       "      <th>2</th>\n",
       "      <td>ABT</td>\n",
       "      <td>Abbott Laboratories</td>\n",
       "      <td>Health Care</td>\n",
       "      <td>22.51</td>\n",
       "      <td>0.26</td>\n",
       "      <td>0.142686</td>\n",
       "      <td>0.890786</td>\n",
       "      <td>0.077520</td>\n",
       "      <td>1.000217</td>\n",
       "    </tr>\n",
       "    <tr>\n",
       "      <th>3</th>\n",
       "      <td>ABBV</td>\n",
       "      <td>AbbVie Inc.</td>\n",
       "      <td>Health Care</td>\n",
       "      <td>19.41</td>\n",
       "      <td>3.29</td>\n",
       "      <td>0.089528</td>\n",
       "      <td>11.999421</td>\n",
       "      <td>0.035559</td>\n",
       "      <td>0.633466</td>\n",
       "    </tr>\n",
       "    <tr>\n",
       "      <th>4</th>\n",
       "      <td>ACN</td>\n",
       "      <td>Accenture plc</td>\n",
       "      <td>Information Technology</td>\n",
       "      <td>25.47</td>\n",
       "      <td>5.44</td>\n",
       "      <td>0.107181</td>\n",
       "      <td>0.964732</td>\n",
       "      <td>0.139512</td>\n",
       "      <td>1.096134</td>\n",
       "    </tr>\n",
       "    <tr>\n",
       "      <th>...</th>\n",
       "      <td>...</td>\n",
       "      <td>...</td>\n",
       "      <td>...</td>\n",
       "      <td>...</td>\n",
       "      <td>...</td>\n",
       "      <td>...</td>\n",
       "      <td>...</td>\n",
       "      <td>...</td>\n",
       "      <td>...</td>\n",
       "    </tr>\n",
       "    <tr>\n",
       "      <th>374</th>\n",
       "      <td>XRX</td>\n",
       "      <td>Xerox Corp.</td>\n",
       "      <td>Information Technology</td>\n",
       "      <td>8.87</td>\n",
       "      <td>0.59</td>\n",
       "      <td>0.000145</td>\n",
       "      <td>2.629360</td>\n",
       "      <td>0.000093</td>\n",
       "      <td>0.467794</td>\n",
       "    </tr>\n",
       "    <tr>\n",
       "      <th>375</th>\n",
       "      <td>XYL</td>\n",
       "      <td>Xylem Inc.</td>\n",
       "      <td>Industrials</td>\n",
       "      <td>30.94</td>\n",
       "      <td>1.83</td>\n",
       "      <td>0.082700</td>\n",
       "      <td>0.583907</td>\n",
       "      <td>0.050615</td>\n",
       "      <td>1.195465</td>\n",
       "    </tr>\n",
       "    <tr>\n",
       "      <th>376</th>\n",
       "      <td>YUM</td>\n",
       "      <td>Yum! Brands Inc</td>\n",
       "      <td>Consumer Discretionary</td>\n",
       "      <td>27.25</td>\n",
       "      <td>4.07</td>\n",
       "      <td>0.225692</td>\n",
       "      <td>-1.792950</td>\n",
       "      <td>0.264470</td>\n",
       "      <td>0.978074</td>\n",
       "    </tr>\n",
       "    <tr>\n",
       "      <th>377</th>\n",
       "      <td>ZBH</td>\n",
       "      <td>Zimmer Biomet Holdings</td>\n",
       "      <td>Health Care</td>\n",
       "      <td>14.32</td>\n",
       "      <td>9.01</td>\n",
       "      <td>0.138487</td>\n",
       "      <td>0.721830</td>\n",
       "      <td>0.048117</td>\n",
       "      <td>0.650311</td>\n",
       "    </tr>\n",
       "    <tr>\n",
       "      <th>378</th>\n",
       "      <td>ZTS</td>\n",
       "      <td>Zoetis</td>\n",
       "      <td>Health Care</td>\n",
       "      <td>32.80</td>\n",
       "      <td>1.65</td>\n",
       "      <td>0.274345</td>\n",
       "      <td>1.860116</td>\n",
       "      <td>0.160487</td>\n",
       "      <td>1.769719</td>\n",
       "    </tr>\n",
       "  </tbody>\n",
       "</table>\n",
       "<p>379 rows × 9 columns</p>\n",
       "</div>"
      ],
      "text/plain": [
       "    Symbol                    Name                  Sector  Price/Earnings  \\\n",
       "0      MMM              3M Company             Industrials           24.31   \n",
       "1      AOS         A.O. Smith Corp             Industrials           27.76   \n",
       "2      ABT     Abbott Laboratories             Health Care           22.51   \n",
       "3     ABBV             AbbVie Inc.             Health Care           19.41   \n",
       "4      ACN           Accenture plc  Information Technology           25.47   \n",
       "..     ...                     ...                     ...             ...   \n",
       "374    XRX             Xerox Corp.  Information Technology            8.87   \n",
       "375    XYL              Xylem Inc.             Industrials           30.94   \n",
       "376    YUM         Yum! Brands Inc  Consumer Discretionary           27.25   \n",
       "377    ZBH  Zimmer Biomet Holdings             Health Care           14.32   \n",
       "378    ZTS                  Zoetis             Health Care           32.80   \n",
       "\n",
       "     Earnings/Share  profitMargin  debtToEquityRatio  returnOnAssets  \\\n",
       "0              7.92     -0.214039           9.509465       -0.144175   \n",
       "1              1.70      0.144466           0.742518        0.170053   \n",
       "2              0.26      0.142686           0.890786        0.077520   \n",
       "3              3.29      0.089528          11.999421        0.035559   \n",
       "4              5.44      0.107181           0.964732        0.139512   \n",
       "..              ...           ...                ...             ...   \n",
       "374            0.59      0.000145           2.629360        0.000093   \n",
       "375            1.83      0.082700           0.583907        0.050615   \n",
       "376            4.07      0.225692          -1.792950        0.264470   \n",
       "377            9.01      0.138487           0.721830        0.048117   \n",
       "378            1.65      0.274345           1.860116        0.160487   \n",
       "\n",
       "     quickRatio  \n",
       "0      0.701837  \n",
       "1      1.014916  \n",
       "2      1.000217  \n",
       "3      0.633466  \n",
       "4      1.096134  \n",
       "..          ...  \n",
       "374    0.467794  \n",
       "375    1.195465  \n",
       "376    0.978074  \n",
       "377    0.650311  \n",
       "378    1.769719  \n",
       "\n",
       "[379 rows x 9 columns]"
      ]
     },
     "execution_count": 3,
     "metadata": {},
     "output_type": "execute_result"
    }
   ],
   "source": [
    "sp500"
   ]
  },
  {
   "cell_type": "code",
   "execution_count": 4,
   "metadata": {},
   "outputs": [
    {
     "data": {
      "text/html": [
       "<div>\n",
       "<style scoped>\n",
       "    .dataframe tbody tr th:only-of-type {\n",
       "        vertical-align: middle;\n",
       "    }\n",
       "\n",
       "    .dataframe tbody tr th {\n",
       "        vertical-align: top;\n",
       "    }\n",
       "\n",
       "    .dataframe thead th {\n",
       "        text-align: right;\n",
       "    }\n",
       "</style>\n",
       "<table border=\"1\" class=\"dataframe\">\n",
       "  <thead>\n",
       "    <tr style=\"text-align: right;\">\n",
       "      <th></th>\n",
       "      <th>Price/Earnings</th>\n",
       "      <th>Earnings/Share</th>\n",
       "      <th>profitMargin</th>\n",
       "      <th>debtToEquityRatio</th>\n",
       "      <th>returnOnAssets</th>\n",
       "      <th>quickRatio</th>\n",
       "    </tr>\n",
       "  </thead>\n",
       "  <tbody>\n",
       "    <tr>\n",
       "      <th>count</th>\n",
       "      <td>379.000000</td>\n",
       "      <td>379.000000</td>\n",
       "      <td>379.000000</td>\n",
       "      <td>379.000000</td>\n",
       "      <td>379.000000</td>\n",
       "      <td>379.000000</td>\n",
       "    </tr>\n",
       "    <tr>\n",
       "      <th>mean</th>\n",
       "      <td>25.585805</td>\n",
       "      <td>3.815858</td>\n",
       "      <td>0.119022</td>\n",
       "      <td>2.493132</td>\n",
       "      <td>0.072116</td>\n",
       "      <td>0.955769</td>\n",
       "    </tr>\n",
       "    <tr>\n",
       "      <th>std</th>\n",
       "      <td>44.421724</td>\n",
       "      <td>5.078349</td>\n",
       "      <td>0.148888</td>\n",
       "      <td>12.391356</td>\n",
       "      <td>0.076473</td>\n",
       "      <td>1.001040</td>\n",
       "    </tr>\n",
       "    <tr>\n",
       "      <th>min</th>\n",
       "      <td>-251.530000</td>\n",
       "      <td>-19.940000</td>\n",
       "      <td>-0.888772</td>\n",
       "      <td>-60.056635</td>\n",
       "      <td>-0.188081</td>\n",
       "      <td>0.003442</td>\n",
       "    </tr>\n",
       "    <tr>\n",
       "      <th>25%</th>\n",
       "      <td>15.915000</td>\n",
       "      <td>1.530000</td>\n",
       "      <td>0.055714</td>\n",
       "      <td>0.839101</td>\n",
       "      <td>0.029131</td>\n",
       "      <td>0.404032</td>\n",
       "    </tr>\n",
       "    <tr>\n",
       "      <th>50%</th>\n",
       "      <td>20.180000</td>\n",
       "      <td>2.890000</td>\n",
       "      <td>0.113247</td>\n",
       "      <td>1.575441</td>\n",
       "      <td>0.059839</td>\n",
       "      <td>0.736892</td>\n",
       "    </tr>\n",
       "    <tr>\n",
       "      <th>75%</th>\n",
       "      <td>25.940000</td>\n",
       "      <td>5.120000</td>\n",
       "      <td>0.183070</td>\n",
       "      <td>2.926054</td>\n",
       "      <td>0.110069</td>\n",
       "      <td>1.084663</td>\n",
       "    </tr>\n",
       "    <tr>\n",
       "      <th>max</th>\n",
       "      <td>520.150000</td>\n",
       "      <td>44.090000</td>\n",
       "      <td>0.871678</td>\n",
       "      <td>123.791240</td>\n",
       "      <td>0.556730</td>\n",
       "      <td>11.712097</td>\n",
       "    </tr>\n",
       "  </tbody>\n",
       "</table>\n",
       "</div>"
      ],
      "text/plain": [
       "       Price/Earnings  Earnings/Share  profitMargin  debtToEquityRatio  \\\n",
       "count      379.000000      379.000000    379.000000         379.000000   \n",
       "mean        25.585805        3.815858      0.119022           2.493132   \n",
       "std         44.421724        5.078349      0.148888          12.391356   \n",
       "min       -251.530000      -19.940000     -0.888772         -60.056635   \n",
       "25%         15.915000        1.530000      0.055714           0.839101   \n",
       "50%         20.180000        2.890000      0.113247           1.575441   \n",
       "75%         25.940000        5.120000      0.183070           2.926054   \n",
       "max        520.150000       44.090000      0.871678         123.791240   \n",
       "\n",
       "       returnOnAssets  quickRatio  \n",
       "count      379.000000  379.000000  \n",
       "mean         0.072116    0.955769  \n",
       "std          0.076473    1.001040  \n",
       "min         -0.188081    0.003442  \n",
       "25%          0.029131    0.404032  \n",
       "50%          0.059839    0.736892  \n",
       "75%          0.110069    1.084663  \n",
       "max          0.556730   11.712097  "
      ]
     },
     "execution_count": 4,
     "metadata": {},
     "output_type": "execute_result"
    }
   ],
   "source": [
    "sp500.describe()"
   ]
  },
  {
   "cell_type": "code",
   "execution_count": 5,
   "metadata": {},
   "outputs": [
    {
     "data": {
      "text/plain": [
       "Symbol               0\n",
       "Name                 0\n",
       "Sector               0\n",
       "Price/Earnings       0\n",
       "Earnings/Share       0\n",
       "profitMargin         0\n",
       "debtToEquityRatio    0\n",
       "returnOnAssets       0\n",
       "quickRatio           0\n",
       "dtype: int64"
      ]
     },
     "execution_count": 5,
     "metadata": {},
     "output_type": "execute_result"
    }
   ],
   "source": [
    "sp500.isna().sum()"
   ]
  },
  {
   "cell_type": "code",
   "execution_count": 6,
   "metadata": {},
   "outputs": [
    {
     "data": {
      "text/plain": [
       "0"
      ]
     },
     "execution_count": 6,
     "metadata": {},
     "output_type": "execute_result"
    }
   ],
   "source": [
    "sp500.duplicated().sum()"
   ]
  },
  {
   "cell_type": "markdown",
   "metadata": {},
   "source": [
    "Creating a heatmap to see any correlation we can find of rip"
   ]
  },
  {
   "cell_type": "code",
   "execution_count": 7,
   "metadata": {},
   "outputs": [
    {
     "data": {
      "text/plain": [
       "<AxesSubplot:>"
      ]
     },
     "execution_count": 7,
     "metadata": {},
     "output_type": "execute_result"
    },
    {
     "data": {
      "image/png": "[encoded data removed]",
      "text/plain": [
       "<Figure size 1296x576 with 2 Axes>"
      ]
     },
     "metadata": {
      "needs_background": "light"
     },
     "output_type": "display_data"
    }
   ],
   "source": [
    "corr = sp500.corr()\n",
    "plt.figure(figsize = (18,8))\n",
    "sns.heatmap(corr, annot = True, cmap='coolwarm')"
   ]
  },
  {
   "cell_type": "markdown",
   "metadata": {},
   "source": [
    "# Cosine Similarity"
   ]
  },
  {
   "cell_type": "code",
   "execution_count": 8,
   "metadata": {},
   "outputs": [],
   "source": [
    "from sklearn.metrics.pairwise import cosine_similarity"
   ]
  },
  {
   "cell_type": "code",
   "execution_count": 9,
   "metadata": {},
   "outputs": [],
   "source": [
    "dataForCosineSimilarites = sp500.drop(columns=[\"Symbol\", \"Name\", \"Sector\"])"
   ]
  },
  {
   "cell_type": "code",
   "execution_count": 10,
   "metadata": {},
   "outputs": [
    {
     "data": {
      "text/plain": [
       "array([[1.        , 0.91611161, 0.90736226, ..., 0.89951487, 0.92278336,\n",
       "        0.92246424],\n",
       "       [0.91611161, 1.        , 0.99865505, ..., 0.99201968, 0.87756625,\n",
       "        0.99934014],\n",
       "       [0.90736226, 0.99865505, 1.        , ..., 0.98520259, 0.85298221,\n",
       "        0.99906275],\n",
       "       ...,\n",
       "       [0.89951487, 0.99201968, 0.98520259, ..., 1.        , 0.91035662,\n",
       "        0.98768767],\n",
       "       [0.92278336, 0.87756625, 0.85298221, ..., 0.91035662, 1.        ,\n",
       "        0.87248004],\n",
       "       [0.92246424, 0.99934014, 0.99906275, ..., 0.98768767, 0.87248004,\n",
       "        1.        ]])"
      ]
     },
     "execution_count": 10,
     "metadata": {},
     "output_type": "execute_result"
    }
   ],
   "source": [
    "cos_sim = cosine_similarity(dataForCosineSimilarites, dataForCosineSimilarites)\n",
    "cos_sim"
   ]
  },
  {
   "cell_type": "markdown",
   "metadata": {},
   "source": [
    "In the follow section I will implement the function from the professor the sort through the cosine similarites"
   ]
  },
  {
   "cell_type": "code",
   "execution_count": 11,
   "metadata": {},
   "outputs": [],
   "source": [
    "results = {}\n",
    "\n",
    "for idx, row in sp500.iterrows():\n",
    "    # print(cos_sim[idx].argsort()[:-100:-1])\n",
    "    #This line of code is using .argsort() to get all the indecies of the similar stocks with the cosinesimlarities in acending order then we take the top 100 in descending order\n",
    "    similar_indices = cos_sim[idx].argsort()[:-100:-1] \n",
    "    \n",
    "    # print(df_genres['anime_id'].iloc[[0]].tolist())\n",
    "    # print(df_genres['anime_id'].iloc[[5803]]) # I was using this to figure out what each individual piece of this chain is doing\n",
    "    similar_items = [(cos_sim[idx][i], sp500['Symbol'].iloc[[i]].tolist()[0]) #Okay so I realized for the second element we use this chain \".iloc[[i]].tolist()[0]\" to just pull only an int insted of a dataframe or list\n",
    "                     for i in similar_indices]     \n",
    "    \n",
    "    # print(cos_sim[idx]) # I guess the point of this is to get the current company, then get the cosine similarity for the enxt closes company which is I from the similar_indices\n",
    "\n",
    "    results[row['Symbol']] = similar_items[1:]\n",
    "    \n",
    "    "
   ]
  },
  {
   "cell_type": "code",
   "execution_count": 12,
   "metadata": {},
   "outputs": [],
   "source": [
    "def get_CompName(symbol):\n",
    "    return sp500[sp500[\"Symbol\"] == symbol][\"Name\"].tolist()[0]\n",
    "    "
   ]
  },
  {
   "cell_type": "markdown",
   "metadata": {},
   "source": [
    "# Time to make reccomendations!!! :)"
   ]
  },
  {
   "cell_type": "code",
   "execution_count": 13,
   "metadata": {},
   "outputs": [],
   "source": [
    "def recommend_Stock(ticker: str, n_Recommendations:int):\n",
    "    \"\"\" \n",
    "    Takes in Ticker Symbol and then returns a list of N Recommendations of the stocks most similar to it sorted most similar to least. \n",
    "    \n",
    "    \"\"\"\n",
    "    print(f\"Reccomendation for companies similar to {get_CompName(ticker)}\")\n",
    "    print(\"-----------\")\n",
    "    \n",
    "    recs = results[ticker][:n_Recommendations]\n",
    "    recsSymbols = [rec[1] for rec in recs]\n",
    "    recsSymbols.append(ticker)\n",
    "    dataFrameofRec = sp500[sp500[\"Symbol\"].isin(recsSymbols)]\n",
    "    dataFrameofRec = dataFrameofRec.set_index(\"Symbol\") \n",
    "    dataFrameofRec.loc[[ticker],[\"CosineScore\"]] = 1\n",
    "   \n",
    "    for rec in recs:\n",
    "        print(f\"\\tRecommended with a score {rec[0]}:\\t{rec[1]}: {get_CompName(rec[1])}\")\n",
    "        dataFrameofRec.loc[[rec[1]],[\"CosineScore\"]] = rec[0]\n",
    "   \n",
    "    return dataFrameofRec.sort_values(by=\"CosineScore\", ascending= False).reset_index()\n",
    "\n"
   ]
  },
  {
   "cell_type": "code",
   "execution_count": 14,
   "metadata": {},
   "outputs": [
    {
     "name": "stdout",
     "output_type": "stream",
     "text": [
      "Reccomendation for companies similar to Microsoft Corp.\n",
      "-----------\n",
      "\tRecommended with a score 0.9999255509653278:\tRHI: Robert Half International\n",
      "\tRecommended with a score 0.9997236386170899:\tFTV: Fortive Corp\n",
      "\tRecommended with a score 0.9996937923957704:\tADI: Analog Devices, Inc.\n",
      "\tRecommended with a score 0.9996623434459944:\tSYK: Stryker Corp.\n",
      "\tRecommended with a score 0.9996492943276161:\tEXPD: Expeditors International\n"
     ]
    },
    {
     "data": {
      "text/html": [
       "<div>\n",
       "<style scoped>\n",
       "    .dataframe tbody tr th:only-of-type {\n",
       "        vertical-align: middle;\n",
       "    }\n",
       "\n",
       "    .dataframe tbody tr th {\n",
       "        vertical-align: top;\n",
       "    }\n",
       "\n",
       "    .dataframe thead th {\n",
       "        text-align: right;\n",
       "    }\n",
       "</style>\n",
       "<table border=\"1\" class=\"dataframe\">\n",
       "  <thead>\n",
       "    <tr style=\"text-align: right;\">\n",
       "      <th></th>\n",
       "      <th>Symbol</th>\n",
       "      <th>Name</th>\n",
       "      <th>Sector</th>\n",
       "      <th>Price/Earnings</th>\n",
       "      <th>Earnings/Share</th>\n",
       "      <th>profitMargin</th>\n",
       "      <th>debtToEquityRatio</th>\n",
       "      <th>returnOnAssets</th>\n",
       "      <th>quickRatio</th>\n",
       "      <th>CosineScore</th>\n",
       "    </tr>\n",
       "  </thead>\n",
       "  <tbody>\n",
       "    <tr>\n",
       "      <th>0</th>\n",
       "      <td>MSFT</td>\n",
       "      <td>Microsoft Corp.</td>\n",
       "      <td>Information Technology</td>\n",
       "      <td>25.76</td>\n",
       "      <td>2.97</td>\n",
       "      <td>0.341462</td>\n",
       "      <td>0.997721</td>\n",
       "      <td>0.186302</td>\n",
       "      <td>1.535723</td>\n",
       "      <td>1.000000</td>\n",
       "    </tr>\n",
       "    <tr>\n",
       "      <th>1</th>\n",
       "      <td>RHI</td>\n",
       "      <td>Robert Half International</td>\n",
       "      <td>Industrials</td>\n",
       "      <td>20.18</td>\n",
       "      <td>2.32</td>\n",
       "      <td>0.064317</td>\n",
       "      <td>0.895544</td>\n",
       "      <td>0.137616</td>\n",
       "      <td>1.289448</td>\n",
       "      <td>0.999926</td>\n",
       "    </tr>\n",
       "    <tr>\n",
       "      <th>2</th>\n",
       "      <td>FTV</td>\n",
       "      <td>Fortive Corp</td>\n",
       "      <td>Industrials</td>\n",
       "      <td>25.05</td>\n",
       "      <td>2.46</td>\n",
       "      <td>0.142746</td>\n",
       "      <td>0.638295</td>\n",
       "      <td>0.052789</td>\n",
       "      <td>1.590800</td>\n",
       "      <td>0.999724</td>\n",
       "    </tr>\n",
       "    <tr>\n",
       "      <th>3</th>\n",
       "      <td>ADI</td>\n",
       "      <td>Analog Devices, Inc.</td>\n",
       "      <td>Information Technology</td>\n",
       "      <td>17.67</td>\n",
       "      <td>2.11</td>\n",
       "      <td>0.269357</td>\n",
       "      <td>0.371976</td>\n",
       "      <td>0.066896</td>\n",
       "      <td>0.758456</td>\n",
       "      <td>0.999694</td>\n",
       "    </tr>\n",
       "    <tr>\n",
       "      <th>4</th>\n",
       "      <td>SYK</td>\n",
       "      <td>Stryker Corp.</td>\n",
       "      <td>Health Care</td>\n",
       "      <td>23.46</td>\n",
       "      <td>2.68</td>\n",
       "      <td>0.154405</td>\n",
       "      <td>1.146614</td>\n",
       "      <td>0.082426</td>\n",
       "      <td>0.860750</td>\n",
       "      <td>0.999662</td>\n",
       "    </tr>\n",
       "    <tr>\n",
       "      <th>5</th>\n",
       "      <td>EXPD</td>\n",
       "      <td>Expeditors International</td>\n",
       "      <td>Industrials</td>\n",
       "      <td>25.26</td>\n",
       "      <td>2.36</td>\n",
       "      <td>0.080954</td>\n",
       "      <td>0.892085</td>\n",
       "      <td>0.148876</td>\n",
       "      <td>1.786823</td>\n",
       "      <td>0.999649</td>\n",
       "    </tr>\n",
       "  </tbody>\n",
       "</table>\n",
       "</div>"
      ],
      "text/plain": [
       "  Symbol                       Name                  Sector  Price/Earnings  \\\n",
       "0   MSFT            Microsoft Corp.  Information Technology           25.76   \n",
       "1    RHI  Robert Half International             Industrials           20.18   \n",
       "2    FTV               Fortive Corp             Industrials           25.05   \n",
       "3    ADI       Analog Devices, Inc.  Information Technology           17.67   \n",
       "4    SYK              Stryker Corp.             Health Care           23.46   \n",
       "5   EXPD   Expeditors International             Industrials           25.26   \n",
       "\n",
       "   Earnings/Share  profitMargin  debtToEquityRatio  returnOnAssets  \\\n",
       "0            2.97      0.341462           0.997721        0.186302   \n",
       "1            2.32      0.064317           0.895544        0.137616   \n",
       "2            2.46      0.142746           0.638295        0.052789   \n",
       "3            2.11      0.269357           0.371976        0.066896   \n",
       "4            2.68      0.154405           1.146614        0.082426   \n",
       "5            2.36      0.080954           0.892085        0.148876   \n",
       "\n",
       "   quickRatio  CosineScore  \n",
       "0    1.535723     1.000000  \n",
       "1    1.289448     0.999926  \n",
       "2    1.590800     0.999724  \n",
       "3    0.758456     0.999694  \n",
       "4    0.860750     0.999662  \n",
       "5    1.786823     0.999649  "
      ]
     },
     "execution_count": 14,
     "metadata": {},
     "output_type": "execute_result"
    }
   ],
   "source": [
    "stockRec = recommend_Stock(ticker=\"MSFT\", n_Recommendations=5)\n",
    "stockRec"
   ]
  },
  {
   "cell_type": "code",
   "execution_count": 15,
   "metadata": {},
   "outputs": [
    {
     "data": {
      "image/png": "[encoded data removed]",
      "text/plain": [
       "<Figure size 1152x432 with 3 Axes>"
      ]
     },
     "metadata": {
      "needs_background": "light"
     },
     "output_type": "display_data"
    }
   ],
   "source": [
    "#This line is where we create the plot where we will add all our plots :)\n",
    "fig, axes = plt.subplots(nrows=1, ncols=3, figsize=(16, 6))  # Adjust figsize as needed\n",
    "\n",
    "sns.barplot(data = stockRec, x = \"Symbol\", y = \"profitMargin\", ax=axes[0])\n",
    "axes[0].set_title('Profit Margin per Company')\n",
    "\n",
    "sns.barplot(data = stockRec, x = \"Symbol\", y = \"Price/Earnings\", ax=axes[1])\n",
    "axes[1].set_title('Price/earnings per Company')\n",
    "\n",
    "sns.barplot(data = stockRec, x = \"Symbol\", y = \"returnOnAssets\", ax=axes[2])\n",
    "axes[2].set_title('returnOnAssets per Company')\n",
    "\n",
    "plt.tight_layout()\n",
    "plt.show()\n"
   ]
  },
  {
   "cell_type": "markdown",
   "metadata": {},
   "source": [
    "# Standardization of the data to see if there is a difference\n",
    "--- \n",
    "\n",
    "The previous recommender system worked in the sense that it provided recommendations, but it was really only based on price/earnings so I lets see if these is a diffrence when we use a standardizer"
   ]
  },
  {
   "cell_type": "code",
   "execution_count": 16,
   "metadata": {},
   "outputs": [],
   "source": [
    "from sklearn.preprocessing import StandardScaler, Normalizer\n",
    "from sklearn.pipeline import make_pipeline\n",
    "# from sklearn.preprocessing import Normalizer"
   ]
  },
  {
   "cell_type": "markdown",
   "metadata": {},
   "source": [
    "I Imported all the preprocessing steps just in case, but for now we will focus on the affects of standardization"
   ]
  },
  {
   "cell_type": "code",
   "execution_count": 17,
   "metadata": {},
   "outputs": [],
   "source": [
    "standardScaler  = StandardScaler()\n",
    "dataForCosineSimilaritesNormalized = standardScaler.fit_transform(dataForCosineSimilarites)\n",
    "\n",
    "#Running the cosineSimilarities again\n",
    "cos_sim = cosine_similarity(dataForCosineSimilaritesNormalized, dataForCosineSimilaritesNormalized)"
   ]
  },
  {
   "cell_type": "code",
   "execution_count": 18,
   "metadata": {},
   "outputs": [],
   "source": [
    "#Now we re-do our recommender system\n",
    "results = {}\n",
    "\n",
    "for idx, row in sp500.iterrows():\n",
    "    # print(cos_sim[idx].argsort()[:-100:-1])\n",
    "    #This line of code is using .argsort() to get all the indecies of the similar stocks with the cosinesimlarities in acending order then we take the top 100 in descending order\n",
    "    similar_indices = cos_sim[idx].argsort()[:-100:-1] \n",
    "    \n",
    "    # print(df_genres['anime_id'].iloc[[0]].tolist())\n",
    "    # print(df_genres['anime_id'].iloc[[5803]]) # I was using this to figure out what each individual piece of this chain is doing\n",
    "    similar_items = [(cos_sim[idx][i], sp500['Symbol'].iloc[[i]].tolist()[0]) #Okay so I realized for the second element we use this chain \".iloc[[i]].tolist()[0]\" to just pull only an int insted of a dataframe or list\n",
    "                     for i in similar_indices]     \n",
    "    \n",
    "    # print(cos_sim[idx]) # I guess the point of this is to get the current company, then get the cosine similarity for the enxt closes company which is I from the similar_indices\n",
    "\n",
    "    results[row['Symbol']] = similar_items[1:]"
   ]
  },
  {
   "cell_type": "code",
   "execution_count": 19,
   "metadata": {},
   "outputs": [
    {
     "name": "stdout",
     "output_type": "stream",
     "text": [
      "Reccomendation for companies similar to Microsoft Corp.\n",
      "-----------\n",
      "\tRecommended with a score 0.9796432578221116:\tEMR: Emerson Electric Company\n",
      "\tRecommended with a score 0.9597498461698005:\tZTS: Zoetis\n",
      "\tRecommended with a score 0.9583894609194525:\tAVGO: Broadcom\n",
      "\tRecommended with a score 0.9555215505254264:\tRMD: ResMed\n",
      "\tRecommended with a score 0.9380375342418454:\tMA: Mastercard Inc.\n"
     ]
    },
    {
     "data": {
      "text/html": [
       "<div>\n",
       "<style scoped>\n",
       "    .dataframe tbody tr th:only-of-type {\n",
       "        vertical-align: middle;\n",
       "    }\n",
       "\n",
       "    .dataframe tbody tr th {\n",
       "        vertical-align: top;\n",
       "    }\n",
       "\n",
       "    .dataframe thead th {\n",
       "        text-align: right;\n",
       "    }\n",
       "</style>\n",
       "<table border=\"1\" class=\"dataframe\">\n",
       "  <thead>\n",
       "    <tr style=\"text-align: right;\">\n",
       "      <th></th>\n",
       "      <th>Symbol</th>\n",
       "      <th>Name</th>\n",
       "      <th>Sector</th>\n",
       "      <th>Price/Earnings</th>\n",
       "      <th>Earnings/Share</th>\n",
       "      <th>profitMargin</th>\n",
       "      <th>debtToEquityRatio</th>\n",
       "      <th>returnOnAssets</th>\n",
       "      <th>quickRatio</th>\n",
       "      <th>CosineScore</th>\n",
       "    </tr>\n",
       "  </thead>\n",
       "  <tbody>\n",
       "    <tr>\n",
       "      <th>0</th>\n",
       "      <td>MSFT</td>\n",
       "      <td>Microsoft Corp.</td>\n",
       "      <td>Information Technology</td>\n",
       "      <td>25.76</td>\n",
       "      <td>2.97</td>\n",
       "      <td>0.341462</td>\n",
       "      <td>0.997721</td>\n",
       "      <td>0.186302</td>\n",
       "      <td>1.535723</td>\n",
       "      <td>1.000000</td>\n",
       "    </tr>\n",
       "    <tr>\n",
       "      <th>1</th>\n",
       "      <td>EMR</td>\n",
       "      <td>Emerson Electric Company</td>\n",
       "      <td>Industrials</td>\n",
       "      <td>25.74</td>\n",
       "      <td>2.35</td>\n",
       "      <td>0.871678</td>\n",
       "      <td>0.780511</td>\n",
       "      <td>0.337142</td>\n",
       "      <td>2.100358</td>\n",
       "      <td>0.979643</td>\n",
       "    </tr>\n",
       "    <tr>\n",
       "      <th>2</th>\n",
       "      <td>ZTS</td>\n",
       "      <td>Zoetis</td>\n",
       "      <td>Health Care</td>\n",
       "      <td>32.80</td>\n",
       "      <td>1.65</td>\n",
       "      <td>0.274345</td>\n",
       "      <td>1.860116</td>\n",
       "      <td>0.160487</td>\n",
       "      <td>1.769719</td>\n",
       "      <td>0.959750</td>\n",
       "    </tr>\n",
       "    <tr>\n",
       "      <th>3</th>\n",
       "      <td>AVGO</td>\n",
       "      <td>Broadcom</td>\n",
       "      <td>Information Technology</td>\n",
       "      <td>15.94</td>\n",
       "      <td>4.01</td>\n",
       "      <td>0.393143</td>\n",
       "      <td>2.037394</td>\n",
       "      <td>0.192759</td>\n",
       "      <td>2.342066</td>\n",
       "      <td>0.958389</td>\n",
       "    </tr>\n",
       "    <tr>\n",
       "      <th>4</th>\n",
       "      <td>RMD</td>\n",
       "      <td>ResMed</td>\n",
       "      <td>Health Care</td>\n",
       "      <td>31.54</td>\n",
       "      <td>2.41</td>\n",
       "      <td>0.212540</td>\n",
       "      <td>0.634835</td>\n",
       "      <td>0.151517</td>\n",
       "      <td>1.229742</td>\n",
       "      <td>0.955522</td>\n",
       "    </tr>\n",
       "    <tr>\n",
       "      <th>5</th>\n",
       "      <td>MA</td>\n",
       "      <td>Mastercard Inc.</td>\n",
       "      <td>Information Technology</td>\n",
       "      <td>34.99</td>\n",
       "      <td>3.65</td>\n",
       "      <td>0.446051</td>\n",
       "      <td>5.116323</td>\n",
       "      <td>0.275834</td>\n",
       "      <td>0.814068</td>\n",
       "      <td>0.938038</td>\n",
       "    </tr>\n",
       "  </tbody>\n",
       "</table>\n",
       "</div>"
      ],
      "text/plain": [
       "  Symbol                      Name                  Sector  Price/Earnings  \\\n",
       "0   MSFT           Microsoft Corp.  Information Technology           25.76   \n",
       "1    EMR  Emerson Electric Company             Industrials           25.74   \n",
       "2    ZTS                    Zoetis             Health Care           32.80   \n",
       "3   AVGO                  Broadcom  Information Technology           15.94   \n",
       "4    RMD                    ResMed             Health Care           31.54   \n",
       "5     MA           Mastercard Inc.  Information Technology           34.99   \n",
       "\n",
       "   Earnings/Share  profitMargin  debtToEquityRatio  returnOnAssets  \\\n",
       "0            2.97      0.341462           0.997721        0.186302   \n",
       "1            2.35      0.871678           0.780511        0.337142   \n",
       "2            1.65      0.274345           1.860116        0.160487   \n",
       "3            4.01      0.393143           2.037394        0.192759   \n",
       "4            2.41      0.212540           0.634835        0.151517   \n",
       "5            3.65      0.446051           5.116323        0.275834   \n",
       "\n",
       "   quickRatio  CosineScore  \n",
       "0    1.535723     1.000000  \n",
       "1    2.100358     0.979643  \n",
       "2    1.769719     0.959750  \n",
       "3    2.342066     0.958389  \n",
       "4    1.229742     0.955522  \n",
       "5    0.814068     0.938038  "
      ]
     },
     "execution_count": 19,
     "metadata": {},
     "output_type": "execute_result"
    }
   ],
   "source": [
    "stockRec = recommend_Stock(ticker=\"MSFT\", n_Recommendations=5)\n",
    "stockRec"
   ]
  },
  {
   "cell_type": "markdown",
   "metadata": {},
   "source": [
    "This is intresting, we actually do get diffent results, lets visualize the ratios to see how similar they really are"
   ]
  },
  {
   "cell_type": "code",
   "execution_count": 20,
   "metadata": {},
   "outputs": [
    {
     "data": {
      "image/png": "[encoded data removed]",
      "text/plain": [
       "<Figure size 1152x432 with 3 Axes>"
      ]
     },
     "metadata": {
      "needs_background": "light"
     },
     "output_type": "display_data"
    }
   ],
   "source": [
    "#This line is where we create the plot where we will add all our plots :)\n",
    "fig, axes = plt.subplots(nrows=1, ncols=3, figsize=(16, 6))  # Adjust figsize as needed\n",
    "\n",
    "sns.barplot(data = stockRec, x = \"Symbol\", y = \"profitMargin\", ax=axes[0])\n",
    "axes[0].set_title('Profit Margin per Company')\n",
    "\n",
    "sns.barplot(data = stockRec, x = \"Symbol\", y = \"Price/Earnings\", ax=axes[1])\n",
    "axes[1].set_title('Price/earnings per Company')\n",
    "\n",
    "sns.barplot(data = stockRec, x = \"Symbol\", y = \"returnOnAssets\", ax=axes[2])\n",
    "axes[2].set_title('returnOnAssets per Company')\n",
    "\n",
    "plt.tight_layout()\n",
    "plt.show()"
   ]
  },
  {
   "cell_type": "markdown",
   "metadata": {},
   "source": [
    "## Results \n",
    "\n",
    " It looks like when we standardize our columns the cosine similarity alogrithm is better able to provide recommendations that are more similar to the stock we provide :)"
   ]
  },
  {
   "cell_type": "markdown",
   "metadata": {},
   "source": [
    "# What if we tried to recommend based on a group of stocks?\n",
    "\n",
    "For my portfolio i'm going to use three stocks, Pepsico, Coke Cola Company, and Apple. Were going to expirement to see how we can build a system to recommend stocks to me as an investor based on my portfolio\n"
   ]
  },
  {
   "cell_type": "code",
   "execution_count": null,
   "metadata": {},
   "outputs": [],
   "source": []
  },
  {
   "cell_type": "code",
   "execution_count": 21,
   "metadata": {},
   "outputs": [
    {
     "ename": "SyntaxError",
     "evalue": "invalid syntax (580733324.py, line 1)",
     "output_type": "error",
     "traceback": [
      "\u001b[0;36m  Input \u001b[0;32mIn [21]\u001b[0;36m\u001b[0m\n\u001b[0;31m    portfolio =\u001b[0m\n\u001b[0m                ^\u001b[0m\n\u001b[0;31mSyntaxError\u001b[0m\u001b[0;31m:\u001b[0m invalid syntax\n"
     ]
    }
   ],
   "source": [
    "# portfolio = "
   ]
  }
 ],
 "metadata": {
  "kernelspec": {
   "display_name": "base",
   "language": "python",
   "name": "python3"
  },
  "language_info": {
   "codemirror_mode": {
    "name": "ipython",
    "version": 3
   },
   "file_extension": ".py",
   "mimetype": "text/x-python",
   "name": "python",
   "nbconvert_exporter": "python",
   "pygments_lexer": "ipython3",
   "version": "3.9.12"
  }
 },
 "nbformat": 4,
 "nbformat_minor": 2
}
